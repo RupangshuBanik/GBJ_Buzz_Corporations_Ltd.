{
 "cells": [
  {
   "cell_type": "code",
   "execution_count": 1,
   "metadata": {},
   "outputs": [
    {
     "data": {
      "text/html": [
       "<div>\n",
       "<style scoped>\n",
       "    .dataframe tbody tr th:only-of-type {\n",
       "        vertical-align: middle;\n",
       "    }\n",
       "\n",
       "    .dataframe tbody tr th {\n",
       "        vertical-align: top;\n",
       "    }\n",
       "\n",
       "    .dataframe thead th {\n",
       "        text-align: right;\n",
       "    }\n",
       "</style>\n",
       "<table border=\"1\" class=\"dataframe\">\n",
       "  <thead>\n",
       "    <tr style=\"text-align: right;\">\n",
       "      <th></th>\n",
       "      <th>review</th>\n",
       "      <th>sentiment</th>\n",
       "    </tr>\n",
       "  </thead>\n",
       "  <tbody>\n",
       "    <tr>\n",
       "      <th>0</th>\n",
       "      <td>One of the other reviewers has mentioned that ...</td>\n",
       "      <td>positive</td>\n",
       "    </tr>\n",
       "    <tr>\n",
       "      <th>1</th>\n",
       "      <td>A wonderful little production. &lt;br /&gt;&lt;br /&gt;The...</td>\n",
       "      <td>positive</td>\n",
       "    </tr>\n",
       "    <tr>\n",
       "      <th>2</th>\n",
       "      <td>I thought this was a wonderful way to spend ti...</td>\n",
       "      <td>positive</td>\n",
       "    </tr>\n",
       "    <tr>\n",
       "      <th>3</th>\n",
       "      <td>Basically there's a family where a little boy ...</td>\n",
       "      <td>negative</td>\n",
       "    </tr>\n",
       "    <tr>\n",
       "      <th>4</th>\n",
       "      <td>Petter Mattei's \"Love in the Time of Money\" is...</td>\n",
       "      <td>positive</td>\n",
       "    </tr>\n",
       "  </tbody>\n",
       "</table>\n",
       "</div>"
      ],
      "text/plain": [
       "                                              review sentiment\n",
       "0  One of the other reviewers has mentioned that ...  positive\n",
       "1  A wonderful little production. <br /><br />The...  positive\n",
       "2  I thought this was a wonderful way to spend ti...  positive\n",
       "3  Basically there's a family where a little boy ...  negative\n",
       "4  Petter Mattei's \"Love in the Time of Money\" is...  positive"
      ]
     },
     "execution_count": 1,
     "metadata": {},
     "output_type": "execute_result"
    }
   ],
   "source": [
    "import pandas as pd\n",
    "import numpy as np\n",
    "import re\n",
    "import string\n",
    "import nltk\n",
    "import matplotlib.pyplot as plt\n",
    "import seaborn as sn\n",
    "import gensim\n",
    "\n",
    "from sklearn import metrics\n",
    "from sklearn.feature_extraction.text import TfidfVectorizer\n",
    "from collections import Counter\n",
    "from nltk.corpus import stopwords\n",
    "from sklearn.feature_extraction.text import CountVectorizer\n",
    "\n",
    "from sklearn.model_selection import train_test_split\n",
    "from sklearn.svm import SVC\n",
    "from sklearn.tree import DecisionTreeClassifier\n",
    "from sklearn.ensemble import RandomForestClassifier\n",
    "from sklearn.linear_model import LogisticRegression\n",
    "from sklearn.naive_bayes import GaussianNB,MultinomialNB\n",
    "from sklearn import metrics\n",
    "from sklearn.linear_model import LogisticRegression\n",
    "\n",
    "from sklearn.pipeline import Pipeline\n",
    "from sklearn.model_selection import GridSearchCV\n",
    "from sklearn import metrics\n",
    "from sklearn.base import BaseEstimator, TransformerMixin\n",
    "from sklearn.metrics import classification_report\n",
    "\n",
    "from gensim.models import Word2Vec\n",
    "from sklearn.metrics import accuracy_score  # Add this import for accuracy_score\n",
    "from gensim.corpora import Dictionary\n",
    "from gensim.models.ldamodel import LdaModel\n",
    "\n",
    "\n",
    "# Load and preprocess the dataset\n",
    "df = pd.read_csv('D:\\GBJ BUZZ Task\\IMDB Dataset.csv', encoding='utf-8')\n",
    "df.head()"
   ]
  },
  {
   "cell_type": "code",
   "execution_count": 2,
   "metadata": {},
   "outputs": [
    {
     "data": {
      "text/plain": [
       "review       0\n",
       "sentiment    0\n",
       "dtype: int64"
      ]
     },
     "execution_count": 2,
     "metadata": {},
     "output_type": "execute_result"
    }
   ],
   "source": [
    "df.isna().any()\n",
    "df.isna().sum()"
   ]
  },
  {
   "cell_type": "code",
   "execution_count": 3,
   "metadata": {},
   "outputs": [
    {
     "data": {
      "text/plain": [
       "49582"
      ]
     },
     "execution_count": 3,
     "metadata": {},
     "output_type": "execute_result"
    }
   ],
   "source": [
    "df['review'].nunique()"
   ]
  },
  {
   "cell_type": "code",
   "execution_count": 4,
   "metadata": {},
   "outputs": [],
   "source": [
    "df['review'].drop_duplicates(inplace = True)"
   ]
  },
  {
   "cell_type": "code",
   "execution_count": 6,
   "metadata": {},
   "outputs": [
    {
     "name": "stdout",
     "output_type": "stream",
     "text": [
      "<class 'pandas.core.series.Series'>\n",
      "RangeIndex: 50000 entries, 0 to 49999\n",
      "Series name: review\n",
      "Non-Null Count  Dtype \n",
      "--------------  ----- \n",
      "50000 non-null  object\n",
      "dtypes: object(1)\n",
      "memory usage: 390.8+ KB\n"
     ]
    }
   ],
   "source": [
    "df['review'].info()"
   ]
  },
  {
   "cell_type": "code",
   "execution_count": 8,
   "metadata": {},
   "outputs": [
    {
     "data": {
      "text/plain": [
       "49582"
      ]
     },
     "execution_count": 8,
     "metadata": {},
     "output_type": "execute_result"
    }
   ],
   "source": [
    "df['review'].nunique()"
   ]
  },
  {
   "cell_type": "code",
   "execution_count": 9,
   "metadata": {},
   "outputs": [
    {
     "data": {
      "text/plain": [
       "(50000, 2)"
      ]
     },
     "execution_count": 9,
     "metadata": {},
     "output_type": "execute_result"
    }
   ],
   "source": [
    "df.shape"
   ]
  },
  {
   "cell_type": "code",
   "execution_count": 10,
   "metadata": {},
   "outputs": [
    {
     "data": {
      "text/html": [
       "<div>\n",
       "<style scoped>\n",
       "    .dataframe tbody tr th:only-of-type {\n",
       "        vertical-align: middle;\n",
       "    }\n",
       "\n",
       "    .dataframe tbody tr th {\n",
       "        vertical-align: top;\n",
       "    }\n",
       "\n",
       "    .dataframe thead th {\n",
       "        text-align: right;\n",
       "    }\n",
       "</style>\n",
       "<table border=\"1\" class=\"dataframe\">\n",
       "  <thead>\n",
       "    <tr style=\"text-align: right;\">\n",
       "      <th></th>\n",
       "      <th>review</th>\n",
       "      <th>sentiment</th>\n",
       "    </tr>\n",
       "  </thead>\n",
       "  <tbody>\n",
       "    <tr>\n",
       "      <th>count</th>\n",
       "      <td>50000</td>\n",
       "      <td>50000</td>\n",
       "    </tr>\n",
       "    <tr>\n",
       "      <th>unique</th>\n",
       "      <td>49582</td>\n",
       "      <td>2</td>\n",
       "    </tr>\n",
       "    <tr>\n",
       "      <th>top</th>\n",
       "      <td>Loved today's show!!! It was a variety and not...</td>\n",
       "      <td>positive</td>\n",
       "    </tr>\n",
       "    <tr>\n",
       "      <th>freq</th>\n",
       "      <td>5</td>\n",
       "      <td>25000</td>\n",
       "    </tr>\n",
       "  </tbody>\n",
       "</table>\n",
       "</div>"
      ],
      "text/plain": [
       "                                                   review sentiment\n",
       "count                                               50000     50000\n",
       "unique                                              49582         2\n",
       "top     Loved today's show!!! It was a variety and not...  positive\n",
       "freq                                                    5     25000"
      ]
     },
     "execution_count": 10,
     "metadata": {},
     "output_type": "execute_result"
    }
   ],
   "source": [
    "#Summary of the dataset\n",
    "df.describe()"
   ]
  },
  {
   "cell_type": "code",
   "execution_count": 11,
   "metadata": {},
   "outputs": [
    {
     "name": "stdout",
     "output_type": "stream",
     "text": [
      "Duplicates have been dropped.\n"
     ]
    }
   ],
   "source": [
    "original_rows = df.shape[0]\n",
    "df.drop_duplicates(subset='review', inplace=True)\n",
    "remaining_rows = df.shape[0]\n",
    "\n",
    "if remaining_rows < original_rows:\n",
    "    print(\"Duplicates have been dropped.\")\n",
    "else:\n",
    "    print(\"No duplicates found.\")"
   ]
  },
  {
   "cell_type": "code",
   "execution_count": 12,
   "metadata": {},
   "outputs": [
    {
     "name": "stdout",
     "output_type": "stream",
     "text": [
      "Total rows after dropping duplicates: 49582\n"
     ]
    }
   ],
   "source": [
    "df.drop_duplicates(subset='review', inplace=True)\n",
    "total_rows = len(df)\n",
    "print(\"Total rows after dropping duplicates:\", total_rows)"
   ]
  },
  {
   "cell_type": "code",
   "execution_count": 13,
   "metadata": {},
   "outputs": [
    {
     "data": {
      "image/png": "[encoded data removed]",
      "text/plain": [
       "<Figure size 640x480 with 1 Axes>"
      ]
     },
     "metadata": {},
     "output_type": "display_data"
    }
   ],
   "source": [
    "# Create a bar plot of the class distribution\n",
    "class_counts = df['sentiment'].value_counts()\n",
    "class_counts.plot(kind='bar')\n",
    "plt.title('Class Distribution of Sentiments')\n",
    "plt.xlabel('Sentiments')\n",
    "plt.ylabel('Number of Reviews')\n",
    "plt.show()"
   ]
  },
  {
   "cell_type": "code",
   "execution_count": 14,
   "metadata": {},
   "outputs": [
    {
     "data": {
      "text/plain": [
       "positive    24884\n",
       "negative    24698\n",
       "Name: sentiment, dtype: int64"
      ]
     },
     "execution_count": 14,
     "metadata": {},
     "output_type": "execute_result"
    }
   ],
   "source": [
    "#sentiment count\n",
    "df['sentiment'].value_counts()"
   ]
  },
  {
   "cell_type": "code",
   "execution_count": 16,
   "metadata": {},
   "outputs": [],
   "source": [
    "# Concatenate all tweet texts into a single string\n",
    "all_text = ' '.join(df['review'].values)\n",
    "# Remove URLs, mentions, and hashtags from the text\n",
    "all_text = re.sub(r'http\\S+', '', all_text)\n",
    "all_text = re.sub(r'@\\S+', '', all_text)\n",
    "all_text = re.sub(r'#\\S+', '', all_text)"
   ]
  },
  {
   "cell_type": "code",
   "execution_count": 17,
   "metadata": {},
   "outputs": [],
   "source": [
    "# Split the text into individual words\n",
    "words = all_text.split()"
   ]
  },
  {
   "cell_type": "code",
   "execution_count": 18,
   "metadata": {},
   "outputs": [],
   "source": [
    "# Remove stop words\n",
    "stop_words = set(stopwords.words('english'))\n",
    "words = [word for word in words if not word in stop_words]"
   ]
  },
  {
   "cell_type": "code",
   "execution_count": 19,
   "metadata": {},
   "outputs": [
    {
     "data": {
      "text/plain": [
       "[('I', 131363),\n",
       " ('/><br', 100211),\n",
       " ('The', 66714),\n",
       " ('movie', 60288),\n",
       " ('film', 53897),\n",
       " ('one', 41026),\n",
       " ('like', 35729),\n",
       " ('This', 24157),\n",
       " ('would', 23381),\n",
       " ('good', 22419),\n",
       " ('It', 21314),\n",
       " ('really', 21169),\n",
       " ('even', 20809),\n",
       " ('see', 20176),\n",
       " ('-', 18065),\n",
       " ('get', 17197),\n",
       " ('much', 16681),\n",
       " ('story', 16337),\n",
       " ('time', 15192),\n",
       " ('make', 14750),\n",
       " ('could', 14551),\n",
       " ('also', 14504),\n",
       " ('people', 14284),\n",
       " ('great', 14283),\n",
       " ('/>The', 14230),\n",
       " ('first', 14160),\n",
       " ('made', 13289),\n",
       " ('think', 12979),\n",
       " ('bad', 12726),\n",
       " ('many', 12096),\n",
       " ('<br', 11964),\n",
       " ('never', 11895),\n",
       " ('two', 11387),\n",
       " ('But', 11328),\n",
       " ('little', 11107),\n",
       " ('it.', 11026),\n",
       " ('way', 10989),\n",
       " ('And', 10967),\n",
       " ('well', 10716),\n",
       " ('watch', 10587),\n",
       " ('know', 10571),\n",
       " ('movie.', 10561),\n",
       " ('seen', 10466),\n",
       " ('characters', 10348),\n",
       " ('character', 10229),\n",
       " (\"It's\", 10149),\n",
       " ('movies', 10064),\n",
       " ('love', 9972),\n",
       " ('best', 9846),\n",
       " ('ever', 9833),\n",
       " ('A', 9590),\n",
       " ('In', 9408),\n",
       " ('films', 9346),\n",
       " ('still', 9333),\n",
       " ('plot', 9227),\n",
       " ('acting', 9110),\n",
       " ('show', 8980),\n",
       " ('He', 8857),\n",
       " ('film.', 8814),\n",
       " ('better', 8796),\n",
       " ('say', 8648),\n",
       " ('If', 8596),\n",
       " ('something', 8386),\n",
       " ('go', 8265),\n",
       " ('scene', 8117),\n",
       " ('makes', 8098),\n",
       " ('film,', 8042),\n",
       " ('movie,', 7910),\n",
       " ('find', 7880),\n",
       " ('There', 7846),\n",
       " (\"I'm\", 7803),\n",
       " ('watching', 7677),\n",
       " ('scenes', 7665),\n",
       " ('real', 7660),\n",
       " ('back', 7589),\n",
       " ('actually', 7559),\n",
       " ('going', 7508),\n",
       " ('/>I', 7283),\n",
       " ('life', 7181),\n",
       " ('lot', 7178),\n",
       " ('look', 7058),\n",
       " ('&', 7028),\n",
       " ('want', 6892),\n",
       " ('thing', 6889),\n",
       " ('quite', 6889),\n",
       " ('every', 6872),\n",
       " ('seems', 6723),\n",
       " ('end', 6721),\n",
       " ('pretty', 6672),\n",
       " (\"can't\", 6650),\n",
       " ('man', 6618),\n",
       " ('old', 6591),\n",
       " ('got', 6577),\n",
       " ('nothing', 6556),\n",
       " ('actors', 6474),\n",
       " ('another', 6442),\n",
       " ('years', 6307),\n",
       " ('take', 6251),\n",
       " ('give', 6249),\n",
       " ('part', 6156)]"
      ]
     },
     "execution_count": 19,
     "metadata": {},
     "output_type": "execute_result"
    }
   ],
   "source": [
    "# Count the frequency of each word\n",
    "word_counts = Counter(words)\n",
    "top_words = word_counts.most_common(100)\n",
    "top_words"
   ]
  },
  {
   "cell_type": "code",
   "execution_count": 20,
   "metadata": {},
   "outputs": [
    {
     "data": {
      "image/png": "[encoded data removed]",
      "text/plain": [
       "<Figure size 640x480 with 1 Axes>"
      ]
     },
     "metadata": {},
     "output_type": "display_data"
    }
   ],
   "source": [
    "# Create a bar chart of the most common words\n",
    "top_words = word_counts.most_common(10) # Change the number to show more/less words\n",
    "x_values = [word[0] for word in top_words]\n",
    "y_values = [word[1] for word in top_words]\n",
    "plt.bar(x_values, y_values)\n",
    "plt.xlabel('Word')\n",
    "plt.ylabel('Frequency')\n",
    "plt.title('Most Commonly Used Words')\n",
    "plt.show()"
   ]
  },
  {
   "cell_type": "code",
   "execution_count": 21,
   "metadata": {},
   "outputs": [
    {
     "name": "stdout",
     "output_type": "stream",
     "text": [
      "Before removing HTML tags: A wonderful little production. <br /><br />The filming technique is ve\n",
      "After removing HTML tags : A wonderful little production. The filming technique is very unassumin\n"
     ]
    }
   ],
   "source": [
    "#Removing HTML Tags\n",
    "def remove_html_tags(text):\n",
    "    re_html = re.compile('<.*?>')\n",
    "    return re_html.sub(r'', text)\n",
    "\n",
    "print(f\"Before removing HTML tags: {df['review'][1][:70]}\")\n",
    "\n",
    "df['review'] = df['review'].apply(remove_html_tags)\n",
    "\n",
    "print(f\"After removing HTML tags : {df['review'][1][:70]}\")"
   ]
  },
  {
   "cell_type": "code",
   "execution_count": 22,
   "metadata": {},
   "outputs": [
    {
     "name": "stdout",
     "output_type": "stream",
     "text": [
      "Before applying lower casting: One of the\n",
      "After applying lower casting : one of the\n"
     ]
    }
   ],
   "source": [
    "#Lowercasting \n",
    "def convert_lowercase(column):\n",
    "    column = column.str.lower()\n",
    "    return column\n",
    "\n",
    "print(f\"Before applying lower casting: {df['review'][0][:10]}\")\n",
    "\n",
    "df['review'] = convert_lowercase(df['review'])\n",
    "\n",
    "print(f\"After applying lower casting : {df['review'][0][:10]}\")"
   ]
  },
  {
   "cell_type": "code",
   "execution_count": 23,
   "metadata": {},
   "outputs": [
    {
     "name": "stdout",
     "output_type": "stream",
     "text": [
      "After removing special characters : one of the other reviewers has mentioned that after watching just 1 oz episode you'll be hooked. the\n",
      "After removing special characters : one of the other reviewers has mentioned that after watching just 1 oz episode youll be hooked they \n"
     ]
    }
   ],
   "source": [
    "#Removing special characters\n",
    "\n",
    "#Define function for removing special characters\n",
    "def remove_special_characters(text, remove_digits=True):\n",
    "    pattern=r'[^a-zA-z0-9\\s]'\n",
    "    text=re.sub(pattern,'',text)\n",
    "    return text\n",
    "\n",
    "#Apply function on review column\n",
    "\n",
    "print(f\"After removing special characters : {df['review'][0][:100]}\")\n",
    "\n",
    "df['review']=df['review'].apply(remove_special_characters)\n",
    "\n",
    "print(f\"After removing special characters : {df['review'][0][:100]}\")"
   ]
  },
  {
   "cell_type": "code",
   "execution_count": 24,
   "metadata": {},
   "outputs": [
    {
     "name": "stdout",
     "output_type": "stream",
     "text": [
      "Tweet before removing punctuation: one of the other reviewers has mentioned that after watching just 1 oz episode youll be hooked they are right as this is exactly what happened with methe first thing that struck me about oz was its brutality and unflinching scenes of violence which set in right from the word go trust me this is not a show for the faint hearted or timid this show pulls no punches with regards to drugs sex or violence its is hardcore in the classic use of the wordit is called oz as that is the nickname given to the oswald maximum security state penitentary it focuses mainly on emerald city an experimental section of the prison where all the cells have glass fronts and face inwards so privacy is not high on the agenda em city is home to manyaryans muslims gangstas latinos christians italians irish and moreso scuffles death stares dodgy dealings and shady agreements are never far awayi would say the main appeal of the show is due to the fact that it goes where other shows wouldnt dare forget pretty pictures painted for mainstream audiences forget charm forget romanceoz doesnt mess around the first episode i ever saw struck me as so nasty it was surreal i couldnt say i was ready for it but as i watched more i developed a taste for oz and got accustomed to the high levels of graphic violence not just violence but injustice crooked guards wholl be sold out for a nickel inmates wholl kill on order and get away with it well mannered middle class inmates being turned into prison bitches due to their lack of street skills or prison experience watching oz you may become comfortable with what is uncomfortable viewingthats if you can get in touch with your darker side\n",
      "Tweet after removing punctuation : one of the other reviewers has mentioned that after watching just 1 oz episode youll be hooked they are right as this is exactly what happened with methe first thing that struck me about oz was its brutality and unflinching scenes of violence which set in right from the word go trust me this is not a show for the faint hearted or timid this show pulls no punches with regards to drugs sex or violence its is hardcore in the classic use of the wordit is called oz as that is the nickname given to the oswald maximum security state penitentary it focuses mainly on emerald city an experimental section of the prison where all the cells have glass fronts and face inwards so privacy is not high on the agenda em city is home to manyaryans muslims gangstas latinos christians italians irish and moreso scuffles death stares dodgy dealings and shady agreements are never far awayi would say the main appeal of the show is due to the fact that it goes where other shows wouldnt dare forget pretty pictures painted for mainstream audiences forget charm forget romanceoz doesnt mess around the first episode i ever saw struck me as so nasty it was surreal i couldnt say i was ready for it but as i watched more i developed a taste for oz and got accustomed to the high levels of graphic violence not just violence but injustice crooked guards wholl be sold out for a nickel inmates wholl kill on order and get away with it well mannered middle class inmates being turned into prison bitches due to their lack of street skills or prison experience watching oz you may become comfortable with what is uncomfortable viewingthats if you can get in touch with your darker side\n"
     ]
    }
   ],
   "source": [
    "#Removing Punctuations\n",
    "exclude = string.punctuation\n",
    "\n",
    "def remove_punc(text):\n",
    "    return text.translate(str.maketrans('', '', exclude))\n",
    "\n",
    "print(f\"Tweet before removing punctuation: {df['review'][0]}\")\n",
    "\n",
    "df['review'] = df['review'].apply(remove_punc)\n",
    "\n",
    "print(f\"Tweet after removing punctuation : {df['review'][0]}\")"
   ]
  },
  {
   "cell_type": "code",
   "execution_count": 25,
   "metadata": {},
   "outputs": [
    {
     "name": "stdout",
     "output_type": "stream",
     "text": [
      "Tweet before removing stop words : one of the other reviewers has mentioned that after watching just 1 oz episode youll be hooked they are right as this is exactly what happened with methe first thing that struck me about oz was its brutality and unflinching scenes of violence which set in right from the word go trust me this is not a show for the faint hearted or timid this show pulls no punches with regards to drugs sex or violence its is hardcore in the classic use of the wordit is called oz as that is the nickname given to the oswald maximum security state penitentary it focuses mainly on emerald city an experimental section of the prison where all the cells have glass fronts and face inwards so privacy is not high on the agenda em city is home to manyaryans muslims gangstas latinos christians italians irish and moreso scuffles death stares dodgy dealings and shady agreements are never far awayi would say the main appeal of the show is due to the fact that it goes where other shows wouldnt dare forget pretty pictures painted for mainstream audiences forget charm forget romanceoz doesnt mess around the first episode i ever saw struck me as so nasty it was surreal i couldnt say i was ready for it but as i watched more i developed a taste for oz and got accustomed to the high levels of graphic violence not just violence but injustice crooked guards wholl be sold out for a nickel inmates wholl kill on order and get away with it well mannered middle class inmates being turned into prison bitches due to their lack of street skills or prison experience watching oz you may become comfortable with what is uncomfortable viewingthats if you can get in touch with your darker side\n",
      "Tweet after removing stop words : one reviewers mentioned watching 1 oz episode youll hooked right exactly happened methe first thing struck oz brutality unflinching scenes violence set right word go trust show faint hearted timid show pulls punches regards drugs sex violence hardcore classic use wordit called oz nickname given oswald maximum security state penitentary focuses mainly emerald city experimental section prison cells glass fronts face inwards privacy high agenda em city home manyaryans muslims gangstas latinos christians italians irish moreso scuffles death stares dodgy dealings shady agreements never far awayi would say main appeal show due fact goes shows wouldnt dare forget pretty pictures painted mainstream audiences forget charm forget romanceoz doesnt mess around first episode ever saw struck nasty surreal couldnt say ready watched developed taste oz got accustomed high levels graphic violence violence injustice crooked guards wholl sold nickel inmates wholl kill order get away well mannered middle class inmates turned prison bitches due lack street skills prison experience watching oz may become comfortable uncomfortable viewingthats get touch darker side\n"
     ]
    }
   ],
   "source": [
    "#Removing stop words\n",
    "from nltk.corpus import stopwords\n",
    "stopwords_english = stopwords.words('english')\n",
    "\n",
    "def remove_stopwords(text):\n",
    "    stop_words = nltk.corpus.stopwords.words(\"english\")\n",
    "    text = \" \".join([word for word in text.split() if word not in stop_words])\n",
    "    \n",
    "    return text\n",
    "\n",
    "print(f\"Tweet before removing stop words : {df['review'][0]}\")\n",
    "\n",
    "df['review'] = df['review'].apply(remove_stopwords)\n",
    "\n",
    "print(f\"Tweet after removing stop words : {df['review'][0]}\")"
   ]
  },
  {
   "cell_type": "code",
   "execution_count": 26,
   "metadata": {},
   "outputs": [
    {
     "name": "stdout",
     "output_type": "stream",
     "text": [
      "Tweet before removing stemming : one reviewers mentioned watching 1 oz episode youll hooked right exactly happened methe first thing struck oz brutality unflinching scenes violence set right word go trust show faint hearted timid show pulls punches regards drugs sex violence hardcore classic use wordit called oz nickname given oswald maximum security state penitentary focuses mainly emerald city experimental section prison cells glass fronts face inwards privacy high agenda em city home manyaryans muslims gangstas latinos christians italians irish moreso scuffles death stares dodgy dealings shady agreements never far awayi would say main appeal show due fact goes shows wouldnt dare forget pretty pictures painted mainstream audiences forget charm forget romanceoz doesnt mess around first episode ever saw struck nasty surreal couldnt say ready watched developed taste oz got accustomed high levels graphic violence violence injustice crooked guards wholl sold nickel inmates wholl kill order get away well mannered middle class inmates turned prison bitches due lack street skills prison experience watching oz may become comfortable uncomfortable viewingthats get touch darker side\n",
      "Tweet after removing stemming : one review mention watch 1 oz episod youll hook right exactli happen meth first thing struck oz brutal unflinch scene violenc set right word go trust show faint heart timid show pull punch regard drug sex violenc hardcor classic use wordit call oz nicknam given oswald maximum secur state penitentari focus mainli emerald citi experiment section prison cell glass front face inward privaci high agenda em citi home manyaryan muslim gangsta latino christian italian irish moreso scuffl death stare dodgi deal shadi agreement never far awayi would say main appeal show due fact goe show wouldnt dare forget pretti pictur paint mainstream audienc forget charm forget romanceoz doesnt mess around first episod ever saw struck nasti surreal couldnt say readi watch develop tast oz got accustom high level graphic violenc violenc injustic crook guard wholl sold nickel inmat wholl kill order get away well manner middl class inmat turn prison bitch due lack street skill prison experi watch oz may becom comfort uncomfort viewingthat get touch darker side\n"
     ]
    }
   ],
   "source": [
    "#Stemming\n",
    "from nltk.stem.porter import PorterStemmer\n",
    "ps = PorterStemmer()\n",
    "def perform_stemming(text):\n",
    "    new_text = [ps.stem(word) for word in text.split()]\n",
    "    return ' '.join(new_text)\n",
    "\n",
    "print(f\"Tweet before removing stemming : {df['review'][0]}\")\n",
    "\n",
    "df['review'] = df['review'].apply(perform_stemming)\n",
    "\n",
    "print(f\"Tweet after removing stemming : {df['review'][0]}\")"
   ]
  },
  {
   "cell_type": "code",
   "execution_count": 27,
   "metadata": {},
   "outputs": [
    {
     "data": {
      "image/png": "[encoded data removed]",
      "text/plain": [
       "<Figure size 700x500 with 1 Axes>"
      ]
     },
     "metadata": {},
     "output_type": "display_data"
    }
   ],
   "source": [
    "# visualising frequentwords\n",
    "\n",
    "def showmostfrequentwords(text,no_of_words):\n",
    "    \n",
    "    allwords = ' '.join([char for char in text])\n",
    "    allwords = allwords.split()\n",
    "    fdist = nltk.FreqDist(allwords)\n",
    "    \n",
    "    wordsdf = pd.DataFrame({'word':list(fdist.keys()),'count':list(fdist.values())})\n",
    "    \n",
    "    df = wordsdf.nlargest(columns=\"count\",n = no_of_words)\n",
    "    \n",
    "    plt.figure(figsize=(7,5))\n",
    "    ax = sn.barplot(data=df,x = 'count',y = 'word')\n",
    "    ax.set(ylabel = 'Word')\n",
    "    plt.show()\n",
    "    \n",
    "    return wordsdf\n",
    "    \n",
    "    \n",
    "# 25 most frequent words\n",
    "freq_df = showmostfrequentwords(df['review'],25)"
   ]
  },
  {
   "cell_type": "code",
   "execution_count": 28,
   "metadata": {},
   "outputs": [
    {
     "name": "stderr",
     "output_type": "stream",
     "text": [
      "c:\\Users\\RUPANGSHU\\anaconda3\\lib\\site-packages\\sklearn\\linear_model\\_logistic.py:458: ConvergenceWarning: lbfgs failed to converge (status=1):\n",
      "STOP: TOTAL NO. of ITERATIONS REACHED LIMIT.\n",
      "\n",
      "Increase the number of iterations (max_iter) or scale the data as shown in:\n",
      "    https://scikit-learn.org/stable/modules/preprocessing.html\n",
      "Please also refer to the documentation for alternative solver options:\n",
      "    https://scikit-learn.org/stable/modules/linear_model.html#logistic-regression\n",
      "  n_iter_i = _check_optimize_result(\n",
      "c:\\Users\\RUPANGSHU\\anaconda3\\lib\\site-packages\\sklearn\\linear_model\\_logistic.py:458: ConvergenceWarning: lbfgs failed to converge (status=1):\n",
      "STOP: TOTAL NO. of ITERATIONS REACHED LIMIT.\n",
      "\n",
      "Increase the number of iterations (max_iter) or scale the data as shown in:\n",
      "    https://scikit-learn.org/stable/modules/preprocessing.html\n",
      "Please also refer to the documentation for alternative solver options:\n",
      "    https://scikit-learn.org/stable/modules/linear_model.html#logistic-regression\n",
      "  n_iter_i = _check_optimize_result(\n"
     ]
    },
    {
     "name": "stdout",
     "output_type": "stream",
     "text": [
      "Topic 1: film movi one like get bad even scene make look\n",
      "Topic 2: movi like watch one film good see show realli time\n",
      "Topic 3: match bollywood khan chess indian shylock hogan pauli beatl luke\n",
      "Topic 4: film one stori charact time well also make mani scene\n",
      "Topic 5: play man role get young one perform love wife father\n",
      "Topic 1: film movi one like get bad even scene make look\n",
      "Topic 2: movi like watch one film good see show realli time\n",
      "Topic 3: match bollywood khan chess indian shylock hogan pauli beatl luke\n",
      "Topic 4: film one stori charact time well also make mani scene\n",
      "Topic 5: play man role get young one perform love wife father\n",
      "Accuracy (BOW): 0.8531814056670364\n",
      "Accuracy (Word2Vec): 0.851467177573863\n",
      "Accuracy (TF-IDF): 0.8559040032267823\n",
      "Accuracy (LDA): 0.4913784410608047\n",
      "Model: BOW\n",
      "Accuracy: 0.8531814056670364\n",
      "Classification Report:\n",
      "              precision    recall  f1-score   support\n",
      "\n",
      "    negative       0.87      0.84      0.85      4939\n",
      "    positive       0.84      0.87      0.86      4978\n",
      "\n",
      "    accuracy                           0.85      9917\n",
      "   macro avg       0.85      0.85      0.85      9917\n",
      "weighted avg       0.85      0.85      0.85      9917\n",
      "\n",
      "========================================\n",
      "Model: Word2Vec\n",
      "Accuracy: 0.851467177573863\n",
      "Classification Report:\n",
      "              precision    recall  f1-score   support\n",
      "\n",
      "    negative       0.86      0.84      0.85      4939\n",
      "    positive       0.84      0.86      0.85      4978\n",
      "\n",
      "    accuracy                           0.85      9917\n",
      "   macro avg       0.85      0.85      0.85      9917\n",
      "weighted avg       0.85      0.85      0.85      9917\n",
      "\n",
      "========================================\n",
      "Model: TF-IDF\n",
      "Accuracy: 0.8559040032267823\n",
      "Classification Report:\n",
      "              precision    recall  f1-score   support\n",
      "\n",
      "    negative       0.87      0.84      0.85      4939\n",
      "    positive       0.85      0.87      0.86      4978\n",
      "\n",
      "    accuracy                           0.86      9917\n",
      "   macro avg       0.86      0.86      0.86      9917\n",
      "weighted avg       0.86      0.86      0.86      9917\n",
      "\n",
      "========================================\n",
      "Model: LDA\n",
      "Accuracy: 0.4913784410608047\n",
      "Classification Report:\n",
      "              precision    recall  f1-score   support\n",
      "\n",
      "    negative       0.49      0.51      0.50      4939\n",
      "    positive       0.49      0.48      0.49      4978\n",
      "\n",
      "    accuracy                           0.49      9917\n",
      "   macro avg       0.49      0.49      0.49      9917\n",
      "weighted avg       0.49      0.49      0.49      9917\n",
      "\n",
      "========================================\n"
     ]
    }
   ],
   "source": [
    "log_reg = LogisticRegression(max_iter=1000)\n",
    "log_reg = LogisticRegression(solver='liblinear')\n",
    "\n",
    "# Map 'positive' to 1 and 'negative' to 0\n",
    "y = np.array(df['sentiment'].map({'positive': 1, 'negative': 0}))\n",
    "\n",
    "# Split data into train and test sets\n",
    "X_train, X_test, y_train, y_test = train_test_split(df['review'], y, test_size=0.2, random_state=42)\n",
    "\n",
    "# Word2Vec Model\n",
    "sentences = [review.split() for review in X_train]\n",
    "word2vec_model = Word2Vec(sentences, vector_size=100, window=5, min_count=2, workers=8, sg=0)\n",
    "\n",
    "\n",
    "# Custom Transformer for Word2Vec Word Embeddings\n",
    "class Word2VecEmbeddingTransformer(BaseEstimator, TransformerMixin):\n",
    "    def __init__(self, word2vec_model):\n",
    "        self.word2vec_model = word2vec_model\n",
    "\n",
    "    def fit(self, X, y=None):\n",
    "        return self\n",
    "\n",
    "    def transform(self, X):\n",
    "        return np.array([self.get_word_embeddings(review) for review in X])\n",
    "\n",
    "    def get_word_embeddings(self, text):\n",
    "        words = text.split()\n",
    "        embeddings = [self.word2vec_model.wv[word] for word in words if word in self.word2vec_model.wv]\n",
    "        if len(embeddings) > 0:\n",
    "            return np.mean(embeddings, axis=0)\n",
    "        else:\n",
    "            return np.zeros(100)\n",
    "        \n",
    "        \n",
    "class LDATopicModelTransformer(BaseEstimator, TransformerMixin):\n",
    "    def __init__(self, num_topics=5, passes=10):\n",
    "        self.num_topics = num_topics\n",
    "        self.passes = passes\n",
    "\n",
    "    def fit(self, X, y=None):\n",
    "        # Tokenize the text data and create a Gensim Dictionary and Corpus\n",
    "        tweet_tokens = [review.split() for review in X]\n",
    "        dictionary = Dictionary(tweet_tokens)\n",
    "        corpus = [dictionary.doc2bow(tokens) for tokens in tweet_tokens]\n",
    "\n",
    "        # Train the LDA model\n",
    "        self.lda_model = LdaModel(corpus, num_topics=self.num_topics, id2word=dictionary, passes=self.passes)\n",
    "        return self\n",
    "\n",
    "    def transform(self, X):\n",
    "        # Tokenize the text data and create a Gensim Dictionary and Corpus\n",
    "        tweet_tokens = [review.split() for review in X]\n",
    "        dictionary = Dictionary(tweet_tokens)\n",
    "        corpus = [dictionary.doc2bow(tokens) for tokens in tweet_tokens]\n",
    "\n",
    "        # Get topic distribution for each document\n",
    "        topic_distributions = [self.lda_model.get_document_topics(doc) for doc in corpus]\n",
    "        topic_matrix = np.zeros((len(X), self.num_topics))\n",
    "        for i, doc_topics in enumerate(topic_distributions):\n",
    "            for topic, prob in doc_topics:\n",
    "                topic_matrix[i, topic] = prob\n",
    "                \n",
    "        # Print the topics\n",
    "        self.print_topics()\n",
    "        \n",
    "        return topic_matrix\n",
    "    \n",
    "    def print_topics(self):\n",
    "        # Print the topics with their corresponding word distributions\n",
    "        topics = self.lda_model.show_topics(num_topics=self.num_topics, num_words=10, formatted=False)\n",
    "        for i, topic in topics:\n",
    "            print(f\"Topic {i + 1}: {' '.join([word for word, _ in topic])}\")\n",
    "            \n",
    "            \n",
    "# Create pipelines for BOW, Word2Vec, and TF-IDF\n",
    "bow_pipeline = Pipeline([\n",
    "    ('count_vec', CountVectorizer(max_df=0.90, min_df=2, max_features=1000, stop_words='english')),\n",
    "    ('log_reg', LogisticRegression())\n",
    "])\n",
    "\n",
    "word2vec_pipeline = Pipeline([\n",
    "    ('word2vec_emb', Word2VecEmbeddingTransformer(word2vec_model)),\n",
    "    ('log_reg', LogisticRegression())\n",
    "])\n",
    "\n",
    "tfidf_pipeline = Pipeline([\n",
    "    ('tfidf_vec', TfidfVectorizer(max_df=0.90, min_df=2, max_features=1000, stop_words='english')),\n",
    "    ('log_reg', LogisticRegression())\n",
    "])\n",
    "\n",
    "lda_pipeline = Pipeline([\n",
    "    ('lda_topics', LDATopicModelTransformer(num_topics=5, passes=10)),  \n",
    "    ('log_reg', LogisticRegression())\n",
    "])\n",
    "\n",
    "# Fit and transform the data using the pipelines\n",
    "\n",
    "# BOW\n",
    "bow_pipeline.fit(X_train, y_train)\n",
    "y_pred_bow = bow_pipeline.predict(X_test)\n",
    "\n",
    "# Word2Vec\n",
    "word2vec_pipeline.fit(X_train, y_train)\n",
    "y_pred_word2vec = word2vec_pipeline.predict(X_test)\n",
    "\n",
    "# TF-IDF\n",
    "tfidf_pipeline.fit(X_train, y_train)\n",
    "y_pred_tfidf = tfidf_pipeline.predict(X_test)\n",
    "\n",
    "\n",
    "# LDA\n",
    "lda_pipeline.fit(X_train, y_train)\n",
    "y_pred_lda = lda_pipeline.predict(X_test)\n",
    "\n",
    "# Evaluate Model\n",
    "accuracy_bow = accuracy_score(y_test, y_pred_bow)\n",
    "accuracy_word2vec = accuracy_score(y_test, y_pred_word2vec)\n",
    "accuracy_tfidf = accuracy_score(y_test, y_pred_tfidf)\n",
    "accuracy_lda = accuracy_score(y_test, y_pred_lda)\n",
    "\n",
    "print(\"Accuracy (BOW):\", accuracy_bow)\n",
    "print(\"Accuracy (Word2Vec):\", accuracy_word2vec)\n",
    "print(\"Accuracy (TF-IDF):\", accuracy_tfidf)\n",
    "print(\"Accuracy (LDA):\", accuracy_lda)\n",
    "\n",
    "\n",
    "# Evaluate Model and Print Classification Report\n",
    "def evaluate_model(y_true, y_pred, model_name):\n",
    "    accuracy = accuracy_score(y_true, y_pred)\n",
    "    report = classification_report(y_true, y_pred, target_names=['negative', 'positive'])\n",
    "    print(f\"Model: {model_name}\")\n",
    "    print(\"Accuracy:\", accuracy)\n",
    "    print(\"Classification Report:\")\n",
    "    print(report)\n",
    "    print(\"=\" * 40)\n",
    "    \n",
    "# BOW\n",
    "evaluate_model(y_test, y_pred_bow, \"BOW\")\n",
    "\n",
    "# Word2Vec\n",
    "evaluate_model(y_test, y_pred_word2vec, \"Word2Vec\")\n",
    "\n",
    "# TF-IDF\n",
    "evaluate_model(y_test, y_pred_tfidf, \"TF-IDF\")\n",
    "\n",
    "# LDA\n",
    "evaluate_model(y_test, y_pred_lda, \"LDA\")\n"
   ]
  },
  {
   "cell_type": "code",
   "execution_count": 29,
   "metadata": {},
   "outputs": [
    {
     "name": "stdout",
     "output_type": "stream",
     "text": [
      "Top Positive Words: ['superb', 'excel', 'solid', 'delight', 'fantast', 'perfectli', 'brilliant', 'amaz', 'awesom', 'hilari']\n",
      "Top Negative Words: ['pointless', 'pathet', 'lame', 'embarrass', 'dull', 'laughabl', 'aw', 'poorli', 'worst', 'wast']\n"
     ]
    }
   ],
   "source": [
    "# Get the feature names from the CountVectorizer\n",
    "feature_names = bow_pipeline.named_steps['count_vec'].get_feature_names_out()\n",
    "\n",
    "# Get the coefficients of the trained logistic regression model\n",
    "coefficients = bow_pipeline.named_steps['log_reg'].coef_[0]\n",
    "\n",
    "# Create a dictionary of word-coefficient pairs\n",
    "word_coeff_dict = dict(zip(feature_names, coefficients))\n",
    "\n",
    "# Sort the dictionary based on coefficients to get most important words\n",
    "sorted_words = sorted(word_coeff_dict.items(), key=lambda x: x[1], reverse=True)\n",
    "\n",
    "# Display the top 10 positive words\n",
    "top_positive_words = [word for word, coeff in sorted_words[:10]]\n",
    "print(\"Top Positive Words:\", top_positive_words)\n",
    "\n",
    "# Display the top 10 negative words\n",
    "top_negative_words = [word for word, coeff in sorted_words[-10:]]\n",
    "print(\"Top Negative Words:\", top_negative_words)"
   ]
  },
  {
   "cell_type": "code",
   "execution_count": 30,
   "metadata": {},
   "outputs": [
    {
     "name": "stdout",
     "output_type": "stream",
     "text": [
      "Top Positive Words: ['excel', 'great', 'perfect', 'amaz', 'favorit', 'best', 'superb', 'brilliant', 'fantast', 'enjoy']\n",
      "Top Negative Words: ['dull', 'poorli', 'wors', 'poor', 'terribl', 'bore', 'bad', 'aw', 'wast', 'worst']\n"
     ]
    }
   ],
   "source": [
    "# Get the feature names from the TF-IDF vectorizer\n",
    "feature_names = tfidf_pipeline.named_steps['tfidf_vec'].get_feature_names_out()\n",
    "\n",
    "# Get the coefficients of the trained logistic regression model\n",
    "coefficients = tfidf_pipeline.named_steps['log_reg'].coef_[0]\n",
    "\n",
    "# Create a dictionary of word-coefficient pairs\n",
    "word_coeff_dict = dict(zip(feature_names, coefficients))\n",
    "\n",
    "# Sort the dictionary based on coefficients to get the most important words\n",
    "sorted_words = sorted(word_coeff_dict.items(), key=lambda x: x[1], reverse=True)\n",
    "\n",
    "# Display the top 10 positive words\n",
    "top_positive_words = [word for word, coeff in sorted_words[:10]]\n",
    "print(\"Top Positive Words:\", top_positive_words)\n",
    "\n",
    "# Display the top 10 negative words\n",
    "top_negative_words = [word for word, coeff in sorted_words[-10:]]\n",
    "print(\"Top Negative Words:\", top_negative_words)"
   ]
  },
  {
   "cell_type": "code",
   "execution_count": 31,
   "metadata": {},
   "outputs": [],
   "source": [
    "text = \"This was a masterpiece. Not completely faithful to the books, but enthralling from beginning to end. Might be my favorite of the three.\""
   ]
  },
  {
   "cell_type": "code",
   "execution_count": null,
   "metadata": {},
   "outputs": [],
   "source": []
  }
 ],
 "metadata": {
  "kernelspec": {
   "display_name": "base",
   "language": "python",
   "name": "python3"
  },
  "language_info": {
   "codemirror_mode": {
    "name": "ipython",
    "version": 3
   },
   "file_extension": ".py",
   "mimetype": "text/x-python",
   "name": "python",
   "nbconvert_exporter": "python",
   "pygments_lexer": "ipython3",
   "version": "3.10.9"
  },
  "orig_nbformat": 4
 },
 "nbformat": 4,
 "nbformat_minor": 2
}
